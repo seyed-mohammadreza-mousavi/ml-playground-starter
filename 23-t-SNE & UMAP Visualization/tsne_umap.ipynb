{
 "cells": [
  {
   "cell_type": "markdown",
   "id": "28714f0d",
   "metadata": {},
   "source": [
    "# Linear t-SNE & UMAP Visualization (with PCA baseline)"
   ]
  },
  {
   "cell_type": "markdown",
   "id": "842d207f",
   "metadata": {},
   "source": [
    "We combine a **linear PCA** preprocessing with **t-SNE** and **UMAP** for 2D visualization."
   ]
  },
  {
   "cell_type": "markdown",
   "id": "461490e0",
   "metadata": {},
   "source": [
    "## Math: PCA"
   ]
  },
  {
   "cell_type": "markdown",
   "id": "bfd214a8",
   "metadata": {},
   "source": [
    "Given centered data $X\\in\\mathbb{R}^{n\\times d}$ and covariance $S=\\frac{1}{n-1}X^{\\top}X$, PCA solves $$S\\mathbf{v}_{i}=\\lambda_{i}\\mathbf{v}_{i}$$ and uses top-$k$ eigenvectors to form $$Z = X V_k \\in \\mathbb{R}^{n\\times k}.$$"
   ]
  },
  {
   "cell_type": "markdown",
   "id": "57d803f4",
   "metadata": {},
   "source": [
    "## Math: t-SNE"
   ]
  },
  {
   "cell_type": "markdown",
   "id": "c98fe0fe",
   "metadata": {},
   "source": [
    "High-D affinities (per point $i$): $$p_{j\\mid i}=\\frac{\\exp(-\\lVert\\mathbf{x}_i-\\mathbf{x}_j\\rVert^2/2\\sigma_i^2)}{\\sum_{k\\ne i} \\exp(-\\lVert\\mathbf{x}_i-\\mathbf{x}_k\\rVert^2/2\\sigma_i^2)}.$$ Perplexity: $$\\text{Perp}(P_i)=2^{H(P_i)},\\quad H(P_i)=-\\sum_j p_{j\\mid i}\\log_2 p_{j\\mid i}.$$ Symmetric: $$p_{ij}=\\frac{p_{j\\mid i}+p_{i\\mid j}}{2n}.$$ Low-D affinities: $$q_{ij}\\propto (1+\\lVert\\mathbf{y}_i-\\mathbf{y}_j\\rVert^2)^{-1}.$$ Objective: $$\\mathrm{KL}(P\\|Q)=\\sum_{i\\ne j}p_{ij}\\log\\frac{p_{ij}}{q_{ij}}.$$"
   ]
  },
  {
   "cell_type": "markdown",
   "id": "a15357d8",
   "metadata": {},
   "source": [
    "## Math: UMAP (sketch)"
   ]
  },
  {
   "cell_type": "markdown",
   "id": "ea70c2a8",
   "metadata": {},
   "source": [
    "High-D fuzzy graph weights: $$\\mu_{ij}=\\exp\\!\\left(-\\frac{\\max(0, d(\\mathbf{x}_i,\\mathbf{x}_j)-\\rho_i)}{\\sigma_i}\\right).$$ Low-D similarity: $$q_{ij}=\\frac{1}{1+a\\lVert\\mathbf{y}_i-\\mathbf{y}_j\\rVert^{2b}}.$$ Loss (cross-entropy): $$\\mathcal{L}=\\sum_{(i,j)}[-\\mu_{ij}\\log q_{ij}-(1-\\mu_{ij})\\log(1-q_{ij})].$$"
   ]
  },
  {
   "cell_type": "markdown",
   "id": "5b751381",
   "metadata": {},
   "source": [
    "### Bayes notation reminder"
   ]
  },
  {
   "cell_type": "markdown",
   "id": "63712e45",
   "metadata": {},
   "source": [
    "$$ P(y \\mid \\mathbf{x}) = \\frac{P(\\mathbf{x}\\mid y)P(y)}{P(\\mathbf{x})} \\;\\propto\\; P(\\mathbf{x}\\mid y)P(y). $$ We start from **Bayes’ theorem** for $y\\in\\{1,\\ldots,C\\}$ and $\\mathbf{x}=(x_1,\\ldots,x_d)$ to show proper inline `$...$` and display `$$...$$` math."
   ]
  },
  {
   "cell_type": "markdown",
   "id": "3ce34ee6",
   "metadata": {},
   "source": [
    "## Setup & Imports"
   ]
  },
  {
   "cell_type": "code",
   "execution_count": null,
   "id": "2246da6c",
   "metadata": {},
   "outputs": [],
   "source": [
    "\n",
    "# If UMAP is missing, you may install:\n",
    "# !pip install umap-learn --quiet\n",
    "\n",
    "import numpy as np\n",
    "import matplotlib.pyplot as plt\n",
    "from time import time\n",
    "\n",
    "from sklearn import datasets\n",
    "from sklearn.preprocessing import StandardScaler\n",
    "from sklearn.decomposition import PCA\n",
    "from sklearn.manifold import TSNE\n",
    "\n",
    "try:\n",
    "    import umap\n",
    "    HAS_UMAP = True\n",
    "except Exception as e:\n",
    "    print(\"UMAP not available. Install via: pip install umap-learn\")\n",
    "    HAS_UMAP = False\n",
    "\n",
    "RANDOM_STATE = 42\n",
    "np.random.seed(RANDOM_STATE)\n",
    "plt.rcParams['figure.figsize'] = (6,5)\n",
    "plt.rcParams['axes.grid'] = True\n"
   ]
  },
  {
   "cell_type": "markdown",
   "id": "014e99e0",
   "metadata": {},
   "source": [
    "## Data (Iris & Digits) and PCA preprocessing"
   ]
  },
  {
   "cell_type": "code",
   "execution_count": null,
   "id": "0fed01a1",
   "metadata": {},
   "outputs": [],
   "source": [
    "\n",
    "def load_iris():\n",
    "    d = datasets.load_iris()\n",
    "    return d.data, d.target, d.target_names\n",
    "\n",
    "def load_digits():\n",
    "    d = datasets.load_digits()\n",
    "    X, y = d.data, d.target\n",
    "    names = np.array([str(i) for i in np.unique(y)])\n",
    "    return X, y, names\n",
    "\n",
    "def pca_pre(X, n_pca=50):\n",
    "    Xs = StandardScaler().fit_transform(X)\n",
    "    k = min(n_pca, Xs.shape[1])\n",
    "    Z = PCA(n_components=k, random_state=RANDOM_STATE).fit_transform(Xs)\n",
    "    return Xs, Z\n",
    "\n",
    "X_i, y_i, names_i = load_iris()\n",
    "X_d, y_d, names_d = load_digits()\n",
    "\n",
    "Xi_s, Zi = pca_pre(X_i, n_pca=4)\n",
    "Xd_s, Zd = pca_pre(X_d, n_pca=50)\n",
    "\n",
    "print(\"Iris:\", X_i.shape, \"Digits:\", X_d.shape)\n"
   ]
  },
  {
   "cell_type": "markdown",
   "id": "9c4706e6",
   "metadata": {},
   "source": [
    "## Helper: Plot function"
   ]
  },
  {
   "cell_type": "code",
   "execution_count": null,
   "id": "ca0b2ee9",
   "metadata": {},
   "outputs": [],
   "source": [
    "\n",
    "def plot_embed(Y, y, title, names=None):\n",
    "    fig = plt.figure()\n",
    "    ax = fig.add_subplot(111)\n",
    "    ax.scatter(Y[:,0], Y[:,1], c=y, s=16)\n",
    "    ax.set_title(title)\n",
    "    ax.set_xlabel(\"Dim 1\"); ax.set_ylabel(\"Dim 2\")\n",
    "    if names is not None:\n",
    "        uniq = np.unique(y)\n",
    "        handles = [ax.scatter([], []) for _ in uniq]\n",
    "        labels = [str(names[u]) if u < len(names) else str(u) for u in uniq]\n",
    "        ax.legend(handles, labels, title=\"Classes\", bbox_to_anchor=(1.04,1), loc=\"upper left\")\n",
    "    plt.tight_layout(); plt.show()\n"
   ]
  },
  {
   "cell_type": "markdown",
   "id": "fe0d5f2b",
   "metadata": {},
   "source": [
    "## Baseline: 2D PCA (Linear)"
   ]
  },
  {
   "cell_type": "code",
   "execution_count": null,
   "id": "0d0def8a",
   "metadata": {},
   "outputs": [],
   "source": [
    "\n",
    "pca2_i = PCA(n_components=2, random_state=RANDOM_STATE).fit_transform(StandardScaler().fit_transform(X_i))\n",
    "plot_embed(pca2_i, y_i, \"Iris — PCA 2D (linear)\", names_i)\n",
    "\n",
    "pca2_d = PCA(n_components=2, random_state=RANDOM_STATE).fit_transform(StandardScaler().fit_transform(X_d))\n",
    "plot_embed(pca2_d, y_d, \"Digits — PCA 2D (linear)\", names_d)\n"
   ]
  },
  {
   "cell_type": "markdown",
   "id": "702c9a52",
   "metadata": {},
   "source": [
    "## t-SNE on PCA-reduced features"
   ]
  },
  {
   "cell_type": "code",
   "execution_count": null,
   "id": "b2eec755",
   "metadata": {},
   "outputs": [],
   "source": [
    "\n",
    "def run_tsne(Z, perplexity=30, n_iter=1000, init=\"pca\", learning_rate=\"auto\"):\n",
    "    tsne = TSNE(n_components=2, perplexity=perplexity, n_iter=n_iter,\n",
    "                init=init, learning_rate=learning_rate, random_state=RANDOM_STATE)\n",
    "    t0 = time(); Y = tsne.fit_transform(Z); t1 = time()\n",
    "    return Y, t1 - t0\n",
    "\n",
    "Yti, dti = run_tsne(Zi, perplexity=30, n_iter=1000)\n",
    "plot_embed(Yti, y_i, f\"Iris — t-SNE on PCA ({dti:.2f}s)\", names_i)\n",
    "\n",
    "Ytd, dtd = run_tsne(Zd, perplexity=30, n_iter=1000)\n",
    "plot_embed(Ytd, y_d, f\"Digits — t-SNE on PCA ({dtd:.2f}s)\", names_d)\n"
   ]
  },
  {
   "cell_type": "markdown",
   "id": "6337b2bc",
   "metadata": {},
   "source": [
    "## UMAP on PCA-reduced features"
   ]
  },
  {
   "cell_type": "code",
   "execution_count": null,
   "id": "34bf4480",
   "metadata": {},
   "outputs": [],
   "source": [
    "\n",
    "def run_umap(Z, n_neighbors=15, min_dist=0.1, metric=\"euclidean\"):\n",
    "    if not HAS_UMAP:\n",
    "        raise ImportError(\"UMAP not installed. Run: pip install umap-learn\")\n",
    "    reducer = umap.UMAP(n_neighbors=n_neighbors, min_dist=min_dist, metric=metric,\n",
    "                        random_state=RANDOM_STATE, n_components=2)\n",
    "    t0 = time(); Y = reducer.fit_transform(Z); t1 = time()\n",
    "    return Y, t1 - t0\n",
    "\n",
    "if HAS_UMAP:\n",
    "    Yui, dui = run_umap(Zi, n_neighbors=15, min_dist=0.1)\n",
    "    plot_embed(Yui, y_i, f\"Iris — UMAP on PCA ({dui:.2f}s)\", names_i)\n",
    "\n",
    "    Yud, dud = run_umap(Zd, n_neighbors=15, min_dist=0.1)\n",
    "    plot_embed(Yud, y_d, f\"Digits — UMAP on PCA ({dud:.2f}s)\", names_d)\n",
    "else:\n",
    "    print(\"Skipping UMAP plots (umap-learn not installed).\")\n"
   ]
  },
  {
   "cell_type": "markdown",
   "id": "43b7ba1d",
   "metadata": {},
   "source": [
    "## Tips"
   ]
  },
  {
   "cell_type": "markdown",
   "id": "e9119eaf",
   "metadata": {},
   "source": [
    "- Standardize features.\n",
    "- PCA to ~50D before t-SNE/UMAP often helps.\n",
    "- Tune t-SNE `perplexity` and UMAP `n_neighbors`, `min_dist`.\n",
    "- Fix seeds for reproducibility.\n",
    "- Compare **PCA 2D** vs **t-SNE/UMAP 2D** to see nonlinear gains."
   ]
  }
 ],
 "metadata": {},
 "nbformat": 4,
 "nbformat_minor": 5
}
